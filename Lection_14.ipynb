{
 "cells": [
  {
   "cell_type": "code",
   "execution_count": 2,
   "metadata": {},
   "outputs": [],
   "source": [
    "class MyDict:\n",
    "    \n",
    "    N_max = 100\n",
    "    \n",
    "    def __init__(self, lst = []):\n",
    "        self._M = [[] for i in range(N_max)]\n",
    "        for key, value in lst:\n",
    "            self.add(key, value)\n",
    "            \n",
    "    def add(self, key, value):\n",
    "        i = hash(key) % N_max\n",
    "        j = 0\n",
    "        while j < len(self._M[i]):\n",
    "            if self._M[i][j][0] == key:\n",
    "                self._M[i][j] = (key, value)\n",
    "                break\n",
    "            j += 1\n",
    "        else:\n",
    "            self._M[i].append((key, value))\n",
    "            \n",
    "    def get(self, key):\n",
    "        i = hash(key) % N_max\n",
    "        for k, v in self._M[i]:\n",
    "            if k == key:\n",
    "                return v\n",
    "        return None\n",
    "    \n",
    "    def delete(self, key):\n",
    "        i = hash(key) % N_max\n",
    "        j = 0\n",
    "        while j < len(self._M[i]):\n",
    "            if self._M[i][j][0] == key:\n",
    "                self._M[i].pop(j)\n",
    "                return\n",
    "        raise KeyError()\n",
    "        \n",
    "    "
   ]
  },
  {
   "cell_type": "code",
   "execution_count": null,
   "metadata": {},
   "outputs": [],
   "source": []
  }
 ],
 "metadata": {
  "kernelspec": {
   "display_name": "Python 3",
   "language": "python",
   "name": "python3"
  },
  "language_info": {
   "codemirror_mode": {
    "name": "ipython",
    "version": 3
   },
   "file_extension": ".py",
   "mimetype": "text/x-python",
   "name": "python",
   "nbconvert_exporter": "python",
   "pygments_lexer": "ipython3",
   "version": "3.8.5"
  }
 },
 "nbformat": 4,
 "nbformat_minor": 4
}
