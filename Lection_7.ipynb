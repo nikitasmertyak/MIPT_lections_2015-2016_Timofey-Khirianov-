{
 "cells": [
  {
   "cell_type": "markdown",
   "metadata": {},
   "source": [
    "# Нахождение корня"
   ]
  },
  {
   "cell_type": "code",
   "execution_count": 2,
   "metadata": {},
   "outputs": [
    {
     "name": "stdout",
     "output_type": "stream",
     "text": [
      "-1\n",
      "1\n",
      "0.0\n"
     ]
    }
   ],
   "source": [
    "def f(x):\n",
    "    return x**2\n",
    "\n",
    "a = int(input())\n",
    "b = int(input())\n",
    "eps = 10**(-4)\n",
    "while abs(b - a) > eps * 2:\n",
    "    c = (b + a) / 2\n",
    "    f_c = f(c)\n",
    "    if f(a) * f(c) < 0:\n",
    "        b = c\n",
    "    elif f(a) * f(c) > 0:\n",
    "        a = c\n",
    "    else:\n",
    "        break\n",
    "print(c)"
   ]
  },
  {
   "cell_type": "code",
   "execution_count": 5,
   "metadata": {},
   "outputs": [],
   "source": [
    "def UpperBound(A, key):\n",
    "    A = sorted(A)\n",
    "    l = -1\n",
    "    r = len(A)\n",
    "    while r > l + 1:\n",
    "        m = (l + r) // 2\n",
    "        if A[m] > key:\n",
    "            r = m\n",
    "        else:\n",
    "            l = m\n",
    "    return r "
   ]
  },
  {
   "cell_type": "code",
   "execution_count": 6,
   "metadata": {},
   "outputs": [
    {
     "data": {
      "text/plain": [
       "2"
      ]
     },
     "execution_count": 6,
     "metadata": {},
     "output_type": "execute_result"
    }
   ],
   "source": [
    "UpperBound([2, 3, 6, 1, 9, 0, 3], 1)"
   ]
  },
  {
   "cell_type": "code",
   "execution_count": 7,
   "metadata": {},
   "outputs": [],
   "source": [
    "def LowerBound(A, key):\n",
    "    A = sorted(A)\n",
    "    l = -1\n",
    "    r = len(A)\n",
    "    while r > l + 1:\n",
    "        m = (l + r) // 2\n",
    "        if A[m] >= key:\n",
    "            r = m\n",
    "        else:\n",
    "            l = m\n",
    "    return r "
   ]
  },
  {
   "cell_type": "code",
   "execution_count": 8,
   "metadata": {},
   "outputs": [
    {
     "data": {
      "text/plain": [
       "1"
      ]
     },
     "execution_count": 8,
     "metadata": {},
     "output_type": "execute_result"
    }
   ],
   "source": [
    "LowerBound([2, 3, 6, 1, 9, 0, 3], 1)"
   ]
  },
  {
   "cell_type": "code",
   "execution_count": 11,
   "metadata": {},
   "outputs": [],
   "source": [
    "from random import shuffle\n",
    "\n",
    "def is_sorted(A):\n",
    "    return A == sorted(A)\n",
    "\n",
    "def MonkeySort(A):\n",
    "    while not is_sorted(A):\n",
    "        shuffle(A)\n",
    "    return A"
   ]
  },
  {
   "cell_type": "code",
   "execution_count": 12,
   "metadata": {},
   "outputs": [
    {
     "data": {
      "text/plain": [
       "[0, 1, 2, 2, 4, 7, 8, 8, 9]"
      ]
     },
     "execution_count": 12,
     "metadata": {},
     "output_type": "execute_result"
    }
   ],
   "source": [
    "MonkeySort([1, 2, 4, 8, 0, 7, 8, 9, 2])"
   ]
  },
  {
   "cell_type": "markdown",
   "metadata": {},
   "source": [
    "# Сортировка вставками"
   ]
  },
  {
   "cell_type": "code",
   "execution_count": null,
   "metadata": {},
   "outputs": [],
   "source": [
    "def InsertionSort(A):\n",
    "    for i in rage(1, len(A)):\n",
    "        new_elem = A[i]\n",
    "        j = i - 1\n",
    "        while j >= 0 and A[j] > new_elem:\n",
    "            A[j + 1] = A[j]\n",
    "            j -= 1\n",
    "        A[j+1] = new_elem"
   ]
  }
 ],
 "metadata": {
  "kernelspec": {
   "display_name": "Python 3",
   "language": "python",
   "name": "python3"
  },
  "language_info": {
   "codemirror_mode": {
    "name": "ipython",
    "version": 3
   },
   "file_extension": ".py",
   "mimetype": "text/x-python",
   "name": "python",
   "nbconvert_exporter": "python",
   "pygments_lexer": "ipython3",
   "version": "3.8.5"
  }
 },
 "nbformat": 4,
 "nbformat_minor": 4
}
