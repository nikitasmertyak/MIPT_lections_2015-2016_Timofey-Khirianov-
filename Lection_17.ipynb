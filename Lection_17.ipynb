{
 "cells": [
  {
   "cell_type": "markdown",
   "metadata": {},
   "source": [
    "# Список ребер"
   ]
  },
  {
   "cell_type": "code",
   "execution_count": 10,
   "metadata": {},
   "outputs": [],
   "source": [
    "N = 6\n",
    "edges = {(1, 5), (2, 4), (0, 3), (2, 5), (1, 3)}\n",
    "vertex = {0, 1, 2, 3, 4, 5}"
   ]
  },
  {
   "cell_type": "markdown",
   "metadata": {},
   "source": [
    "## Механизм считывания"
   ]
  },
  {
   "cell_type": "code",
   "execution_count": 14,
   "metadata": {},
   "outputs": [
    {
     "name": "stdout",
     "output_type": "stream",
     "text": [
      "6\n",
      "5\n",
      "1 5\n",
      "2 4\n",
      "0 3\n",
      "2 5\n",
      "1 3\n",
      "[(1, 5), (2, 4), (0, 3), (2, 5), (1, 3)]\n"
     ]
    }
   ],
   "source": [
    "N = int(input())\n",
    "K = int(input())\n",
    "edges = []\n",
    "for i in range(K):\n",
    "    a, b = [int(x) for x in input().split()]\n",
    "    edges.append((a, b))\n",
    "print(edges)"
   ]
  },
  {
   "cell_type": "markdown",
   "metadata": {},
   "source": [
    "## Учет веса ребер\n"
   ]
  },
  {
   "cell_type": "code",
   "execution_count": 16,
   "metadata": {},
   "outputs": [
    {
     "name": "stdout",
     "output_type": "stream",
     "text": [
      "6\n",
      "5\n",
      "1 5 3\n",
      "2 4 2\n",
      "0 3 5\n",
      "2 5 0\n",
      "1 3 4\n",
      "[(1, 5, 3), (2, 4, 2), (0, 3, 5), (2, 5, 0), (1, 3, 4)]\n"
     ]
    }
   ],
   "source": [
    "N = int(input())\n",
    "K = int(input())\n",
    "edges = []\n",
    "for i in range(K):\n",
    "    a, b, w = [int(x) for x in input().split()]\n",
    "    edges.append((a, b, w))\n",
    "print(edges)"
   ]
  },
  {
   "cell_type": "markdown",
   "metadata": {},
   "source": [
    "# Матрица смежности"
   ]
  },
  {
   "cell_type": "code",
   "execution_count": 22,
   "metadata": {},
   "outputs": [],
   "source": [
    "N = 5\n",
    "M = [[0, 1, 1, 0, 1],\n",
    "     [1, 0, 1, 0, 1],\n",
    "     [1, 1, 0, 1, 0],\n",
    "     [0, 0, 1, 0, 1],\n",
    "     [1, 1, 0, 1, 0]]\n"
   ]
  },
  {
   "cell_type": "code",
   "execution_count": 35,
   "metadata": {},
   "outputs": [
    {
     "name": "stdout",
     "output_type": "stream",
     "text": [
      "\n"
     ]
    },
    {
     "ename": "ValueError",
     "evalue": "invalid literal for int() with base 10: ''",
     "output_type": "error",
     "traceback": [
      "\u001b[0;31m---------------------------------------------------------------------------\u001b[0m",
      "\u001b[0;31mValueError\u001b[0m                                Traceback (most recent call last)",
      "\u001b[0;32m<ipython-input-35-419b510eabe8>\u001b[0m in \u001b[0;36m<module>\u001b[0;34m\u001b[0m\n\u001b[0;32m----> 1\u001b[0;31m \u001b[0mN\u001b[0m \u001b[0;34m=\u001b[0m \u001b[0mint\u001b[0m\u001b[0;34m(\u001b[0m\u001b[0minput\u001b[0m\u001b[0;34m(\u001b[0m\u001b[0;34m)\u001b[0m\u001b[0;34m)\u001b[0m\u001b[0;34m\u001b[0m\u001b[0;34m\u001b[0m\u001b[0m\n\u001b[0m\u001b[1;32m      2\u001b[0m \u001b[0mK\u001b[0m \u001b[0;34m=\u001b[0m \u001b[0mint\u001b[0m\u001b[0;34m(\u001b[0m\u001b[0minput\u001b[0m\u001b[0;34m(\u001b[0m\u001b[0;34m)\u001b[0m\u001b[0;34m)\u001b[0m\u001b[0;34m\u001b[0m\u001b[0;34m\u001b[0m\u001b[0m\n\u001b[1;32m      3\u001b[0m \u001b[0mM\u001b[0m \u001b[0;34m=\u001b[0m \u001b[0;34m[\u001b[0m\u001b[0;34m[\u001b[0m\u001b[0;36m0\u001b[0m\u001b[0;34m]\u001b[0m \u001b[0;34m*\u001b[0m \u001b[0mN\u001b[0m \u001b[0;32mfor\u001b[0m \u001b[0mi\u001b[0m \u001b[0;32min\u001b[0m \u001b[0mrange\u001b[0m\u001b[0;34m(\u001b[0m\u001b[0mK\u001b[0m\u001b[0;34m)\u001b[0m\u001b[0;34m]\u001b[0m\u001b[0;34m\u001b[0m\u001b[0;34m\u001b[0m\u001b[0m\n\u001b[1;32m      4\u001b[0m \u001b[0;32mfor\u001b[0m \u001b[0mi\u001b[0m \u001b[0;32min\u001b[0m \u001b[0mrange\u001b[0m\u001b[0;34m(\u001b[0m\u001b[0mK\u001b[0m\u001b[0;34m)\u001b[0m\u001b[0;34m:\u001b[0m\u001b[0;34m\u001b[0m\u001b[0;34m\u001b[0m\u001b[0m\n\u001b[1;32m      5\u001b[0m     \u001b[0ma\u001b[0m\u001b[0;34m,\u001b[0m \u001b[0mb\u001b[0m \u001b[0;34m=\u001b[0m \u001b[0minput\u001b[0m\u001b[0;34m(\u001b[0m\u001b[0;34m)\u001b[0m\u001b[0;34m.\u001b[0m\u001b[0msplit\u001b[0m\u001b[0;34m(\u001b[0m\u001b[0;34m)\u001b[0m\u001b[0;34m\u001b[0m\u001b[0;34m\u001b[0m\u001b[0m\n",
      "\u001b[0;31mValueError\u001b[0m: invalid literal for int() with base 10: ''"
     ]
    }
   ],
   "source": [
    "N = int(input())\n",
    "K = int(input())\n",
    "M = [[0] * N for i in range(K)]\n",
    "for i in range(K):\n",
    "    a, b = input().split()\n",
    "    a, b = int(a), int(b)\n",
    "    M[a][b] = 1\n",
    "    M[b][a] = 1\n",
    "    \n",
    "print(M)"
   ]
  },
  {
   "cell_type": "markdown",
   "metadata": {},
   "source": [
    "# Списки смежности"
   ]
  },
  {
   "cell_type": "code",
   "execution_count": 26,
   "metadata": {},
   "outputs": [],
   "source": [
    "N = 5\n",
    "G = {0: {1, 2, 4},\n",
    "     1: {0, 2, 4},\n",
    "     2: {0, 1, 3},\n",
    "     3: {2, 4},\n",
    "     4: {0, 1, 3}}"
   ]
  },
  {
   "cell_type": "markdown",
   "metadata": {},
   "source": [
    "## Получение из списка смежности - списка ребер"
   ]
  },
  {
   "cell_type": "code",
   "execution_count": 28,
   "metadata": {},
   "outputs": [
    {
     "name": "stdout",
     "output_type": "stream",
     "text": [
      "0 1\n",
      "0 2\n",
      "0 4\n",
      "1 0\n",
      "1 2\n",
      "1 4\n",
      "2 0\n",
      "2 1\n",
      "2 3\n",
      "3 2\n",
      "3 4\n",
      "4 0\n",
      "4 1\n",
      "4 3\n"
     ]
    }
   ],
   "source": [
    "for vertex in G:\n",
    "    for neighbour in G[vertex]:\n",
    "        print(vertex, neighbour)"
   ]
  },
  {
   "cell_type": "code",
   "execution_count": 32,
   "metadata": {},
   "outputs": [
    {
     "name": "stdout",
     "output_type": "stream",
     "text": [
      "[0, 1, 0, 2, 0, 4, 1, 0, 1, 2, 1, 4, 2, 0, 2, 1, 2, 3, 3, 2, 3, 4, 4, 0, 4, 1, 4, 3]\n"
     ]
    }
   ],
   "source": [
    "edges = []\n",
    "for vertex in G:\n",
    "    for neighbour in G[vertex]:\n",
    "        edges += [vertex, neighbour]\n",
    "print(edges)"
   ]
  },
  {
   "cell_type": "code",
   "execution_count": 33,
   "metadata": {},
   "outputs": [
    {
     "name": "stdout",
     "output_type": "stream",
     "text": [
      "[[0, 1], [0, 2], [0, 4], [1, 0], [1, 2], [1, 4], [2, 0], [2, 1], [2, 3], [3, 2], [3, 4], [4, 0], [4, 1], [4, 3]]\n"
     ]
    }
   ],
   "source": [
    "edges = []\n",
    "for vertex in G:\n",
    "    for neighbour in G[vertex]:\n",
    "        edges.append([vertex, neighbour])\n",
    "print(edges)"
   ]
  },
  {
   "cell_type": "code",
   "execution_count": 6,
   "metadata": {},
   "outputs": [
    {
     "name": "stdout",
     "output_type": "stream",
     "text": [
      "6\n",
      "0 1 2\n",
      "0 2 4\n",
      "0 4 7\n",
      "1 0 3\n",
      "1 2 5\n",
      "1 4 9\n",
      "{0: {1: 2, 2: 4, 4: 7}, 1: {0: 3, 2: 5, 4: 9}}\n"
     ]
    }
   ],
   "source": [
    "N = 5\n",
    "G = {}\n",
    "for i in range(int(input())):\n",
    "    a, b, w = [int(x) for x in input().split()]\n",
    "    if a not in G:\n",
    "        G[a] = {b : w}\n",
    "    else:\n",
    "        G[a][b] = w\n",
    "print(G)"
   ]
  },
  {
   "cell_type": "code",
   "execution_count": 10,
   "metadata": {},
   "outputs": [],
   "source": [
    "def call_friends(G, start, called):\n",
    "    called.append(start)\n",
    "    for neighbour in G[start]:\n",
    "        if neighbour not in called: \n",
    "            call_friends(G, neighbour, called)\n",
    "            print(start, neighbour)"
   ]
  },
  {
   "cell_type": "code",
   "execution_count": 11,
   "metadata": {},
   "outputs": [
    {
     "name": "stdout",
     "output_type": "stream",
     "text": [
      "1 4\n",
      "0 1\n",
      "2 0\n",
      "3 2\n"
     ]
    }
   ],
   "source": [
    "G = {0: {1, 2, 4},\n",
    "     1: {0, 2, 4},\n",
    "     2: {0, 1, 3},\n",
    "     3: {2, 4},\n",
    "     4: {0, 1, 3}}\n",
    "call_friends(G, 3, [])"
   ]
  },
  {
   "cell_type": "code",
   "execution_count": null,
   "metadata": {},
   "outputs": [],
   "source": []
  }
 ],
 "metadata": {
  "kernelspec": {
   "display_name": "Python 3",
   "language": "python",
   "name": "python3"
  },
  "language_info": {
   "codemirror_mode": {
    "name": "ipython",
    "version": 3
   },
   "file_extension": ".py",
   "mimetype": "text/x-python",
   "name": "python",
   "nbconvert_exporter": "python",
   "pygments_lexer": "ipython3",
   "version": "3.8.5"
  }
 },
 "nbformat": 4,
 "nbformat_minor": 4
}
