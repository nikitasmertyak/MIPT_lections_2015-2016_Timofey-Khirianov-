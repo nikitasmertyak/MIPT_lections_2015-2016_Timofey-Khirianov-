{
 "cells": [
  {
   "cell_type": "code",
   "execution_count": 1,
   "metadata": {},
   "outputs": [],
   "source": [
    "def Fib(n):\n",
    "    F = [0, 1] + [0]*(n - 1)\n",
    "    for i in range(2, n + 1):\n",
    "        F[i] = F[i - 1] + F[i - 2]\n",
    "    return F[n]\n"
   ]
  },
  {
   "cell_type": "code",
   "execution_count": 2,
   "metadata": {},
   "outputs": [
    {
     "data": {
      "text/plain": [
       "2"
      ]
     },
     "execution_count": 2,
     "metadata": {},
     "output_type": "execute_result"
    }
   ],
   "source": [
    "Fib(3)"
   ]
  },
  {
   "cell_type": "code",
   "execution_count": 3,
   "metadata": {},
   "outputs": [
    {
     "name": "stdout",
     "output_type": "stream",
     "text": [
      "4\n",
      "3\n"
     ]
    }
   ],
   "source": [
    "n = int(input())\n",
    "K = [0, 1] + [0] * (n -1)\n",
    "for i in range(2, n  + 1):\n",
    "    K[i] = K[i - 1] + K[i - 2]\n",
    "print(K[n])"
   ]
  },
  {
   "cell_type": "code",
   "execution_count": 6,
   "metadata": {},
   "outputs": [
    {
     "name": "stdout",
     "output_type": "stream",
     "text": [
      "4\n",
      "0\n"
     ]
    }
   ],
   "source": [
    "Denied = [0, 0, 1, 0, 1, 0, 1, 0, 0, 1, 0]\n",
    "n = int(input())\n",
    "K = [0, 1] + [0]*(n - 1)\n",
    "for i in range(2, n + 1):\n",
    "    if Denied[i] == 1:\n",
    "        K[i] = 0\n",
    "    else:\n",
    "        K[i] = K[i - 1] + K[i - 2]\n",
    "print(K[n])"
   ]
  },
  {
   "cell_type": "code",
   "execution_count": 3,
   "metadata": {},
   "outputs": [
    {
     "name": "stdout",
     "output_type": "stream",
     "text": [
      "7\n",
      "113\n",
      "[0, 2, 3, 5, 7]\n"
     ]
    }
   ],
   "source": [
    "Price = [10, 20, 5, 3, 7, 8, 4, 87]\n",
    "n = int(input())\n",
    "C = [0] * (n + 1)\n",
    "C[0] = Price[0]\n",
    "C[1] = C[0] + Price[1]\n",
    "for i in range(2, n + 1):\n",
    "    C[i] = Price[i] + min(C[i -1], C[i - 2])\n",
    "print(C[n])\n",
    "\n",
    "Path = [n]\n",
    "while Path[-1] != 0:\n",
    "    i = Path[-1]\n",
    "    if C[i-1] < C[i -2]:\n",
    "        Path.append(i - 1)\n",
    "    else:\n",
    "        Path.append(i - 2)\n",
    "Path = Path[::-1]\n",
    "print(Path)"
   ]
  },
  {
   "cell_type": "markdown",
   "metadata": {},
   "source": [
    "# Король"
   ]
  },
  {
   "cell_type": "code",
   "execution_count": 6,
   "metadata": {},
   "outputs": [
    {
     "name": "stdout",
     "output_type": "stream",
     "text": [
      "2\n",
      "2\n",
      "3\n"
     ]
    }
   ],
   "source": [
    "m = int(input())\n",
    "n = int(input())\n",
    "K = [[0] * m for i in range(n)]\n",
    "for i in range(n):\n",
    "    K[i][0] = 1\n",
    "for j in range(m):\n",
    "    K[0][j] = 1\n",
    "for i in range(1, n):\n",
    "    for j in range(1, m):\n",
    "        K[i][j] = K[i - 1][j - 1] + K[i - 1][j] + K[i][j - 1]\n",
    "print(K[n-1][m-1])\n",
    "    "
   ]
  },
  {
   "cell_type": "markdown",
   "metadata": {},
   "source": [
    "# Наибольшая общая подпоследовательность"
   ]
  },
  {
   "cell_type": "code",
   "execution_count": 9,
   "metadata": {},
   "outputs": [
    {
     "name": "stdout",
     "output_type": "stream",
     "text": [
      "4\n"
     ]
    }
   ],
   "source": [
    "A = [1, 2, 3, 5, 7, 8, 9]\n",
    "B = [1, 1, 3, 7, 2, 8, 4]\n",
    "n = len(A)\n",
    "m = len(B)\n",
    "F = [[0] * (m+1) for i in range(n+1)]\n",
    "for i in range(n+1):\n",
    "    for j in range(m+1):\n",
    "        if A[i - 1] == B[j - 1]:\n",
    "            F[i][j] = F[i - 1][j - 1] + 1\n",
    "        else:\n",
    "            F[i][j] = max(F[i-1][j], F[i][j - 1])\n",
    "print(F[n][m])"
   ]
  },
  {
   "cell_type": "code",
   "execution_count": null,
   "metadata": {},
   "outputs": [],
   "source": []
  }
 ],
 "metadata": {
  "kernelspec": {
   "display_name": "Python 3",
   "language": "python",
   "name": "python3"
  },
  "language_info": {
   "codemirror_mode": {
    "name": "ipython",
    "version": 3
   },
   "file_extension": ".py",
   "mimetype": "text/x-python",
   "name": "python",
   "nbconvert_exporter": "python",
   "pygments_lexer": "ipython3",
   "version": "3.8.5"
  }
 },
 "nbformat": 4,
 "nbformat_minor": 4
}
