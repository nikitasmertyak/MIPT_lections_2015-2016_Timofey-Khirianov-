{
 "cells": [
  {
   "cell_type": "code",
   "execution_count": 1,
   "metadata": {},
   "outputs": [],
   "source": [
    "def make_matroska(size, number):\n",
    "    if number > 1:\n",
    "        print('низ размера', size)\n",
    "        make_matroska(size - 1, number - 1)\n",
    "        print('верх размера', size)\n",
    "    else:\n",
    "        print('Матрешечка размера', size)"
   ]
  },
  {
   "cell_type": "code",
   "execution_count": 25,
   "metadata": {},
   "outputs": [
    {
     "name": "stdout",
     "output_type": "stream",
     "text": [
      "низ размера 5\n",
      "низ размера 4\n",
      "низ размера 3\n",
      "низ размера 2\n",
      "Матрешечка размера 1\n",
      "верх размера 2\n",
      "верх размера 3\n",
      "верх размера 4\n",
      "верх размера 5\n"
     ]
    }
   ],
   "source": [
    "make_matroska(5, 5)"
   ]
  },
  {
   "cell_type": "markdown",
   "metadata": {},
   "source": [
    "# Алгоритм Евклида"
   ]
  },
  {
   "cell_type": "code",
   "execution_count": 3,
   "metadata": {},
   "outputs": [],
   "source": [
    "def my_gcd(a, b):\n",
    "    if b == 0:\n",
    "        return a\n",
    "    return my_gcd(b, a % b)"
   ]
  },
  {
   "cell_type": "code",
   "execution_count": 4,
   "metadata": {},
   "outputs": [
    {
     "data": {
      "text/plain": [
       "3"
      ]
     },
     "execution_count": 4,
     "metadata": {},
     "output_type": "execute_result"
    }
   ],
   "source": [
    "my_gcd(3, 6)"
   ]
  },
  {
   "cell_type": "markdown",
   "metadata": {},
   "source": [
    "# Факториал числа"
   ]
  },
  {
   "cell_type": "code",
   "execution_count": 12,
   "metadata": {},
   "outputs": [
    {
     "data": {
      "text/plain": [
       "6"
      ]
     },
     "execution_count": 12,
     "metadata": {},
     "output_type": "execute_result"
    }
   ],
   "source": [
    "def factoriaze(n):\n",
    "    if n == 0:\n",
    "        return 1\n",
    "    return n * factoriaze(n - 1)\n",
    "factoriaze(3)"
   ]
  },
  {
   "cell_type": "code",
   "execution_count": 13,
   "metadata": {},
   "outputs": [
    {
     "data": {
      "text/plain": [
       "6"
      ]
     },
     "execution_count": 13,
     "metadata": {},
     "output_type": "execute_result"
    }
   ],
   "source": [
    "def factor(n):\n",
    "    return 1 if n == 0 else factor(n - 1) * n\n",
    "factor(3)"
   ]
  },
  {
   "cell_type": "markdown",
   "metadata": {},
   "source": [
    "# Числа Фиббоначи"
   ]
  },
  {
   "cell_type": "code",
   "execution_count": 14,
   "metadata": {},
   "outputs": [],
   "source": [
    "def fib(n):\n",
    "    if n < 2:\n",
    "        return n\n",
    "    else:\n",
    "        return fib(n - 1) + fib(n - 2)"
   ]
  },
  {
   "cell_type": "code",
   "execution_count": 15,
   "metadata": {},
   "outputs": [
    {
     "data": {
      "text/plain": [
       "2"
      ]
     },
     "execution_count": 15,
     "metadata": {},
     "output_type": "execute_result"
    }
   ],
   "source": [
    "fib(3)"
   ]
  },
  {
   "cell_type": "markdown",
   "metadata": {},
   "source": [
    "# Быстрое возведение в степень"
   ]
  },
  {
   "cell_type": "code",
   "execution_count": 16,
   "metadata": {},
   "outputs": [],
   "source": [
    "def fast_power(a, n):\n",
    "    if n == 0:\n",
    "        return 1\n",
    "    elif n % 2 == 1:\n",
    "        return a * fast_power(a, n - 1)\n",
    "    else:\n",
    "        return fast_power(a * a, n // 2)"
   ]
  },
  {
   "cell_type": "code",
   "execution_count": 17,
   "metadata": {},
   "outputs": [
    {
     "data": {
      "text/plain": [
       "4"
      ]
     },
     "execution_count": 17,
     "metadata": {},
     "output_type": "execute_result"
    }
   ],
   "source": [
    "fast_power(2, 2)"
   ]
  },
  {
   "cell_type": "markdown",
   "metadata": {},
   "source": [
    "# Ханойские башни"
   ]
  },
  {
   "cell_type": "code",
   "execution_count": 18,
   "metadata": {},
   "outputs": [],
   "source": [
    "def hanoi(n, i = 1, j = 2):\n",
    "    if n == 1:\n",
    "        print('переложить', 1, 'блин c', i, 'на', j, 'штырек')\n",
    "    else:\n",
    "        hanoi(n - 1, i, 6 - i - j)\n",
    "        print('переложить', n, 'блин с', i, 'на', j, 'штырек')\n",
    "        hanoi(n - 1, 6 - i - j, j)\n",
    "        "
   ]
  },
  {
   "cell_type": "code",
   "execution_count": 19,
   "metadata": {},
   "outputs": [
    {
     "name": "stdout",
     "output_type": "stream",
     "text": [
      "переложить 1 блин c 1 на 3 штырек\n",
      "переложить 2 блин с 1 на 2 штырек\n",
      "переложить 1 блин c 3 на 2 штырек\n",
      "переложить 3 блин с 1 на 3 штырек\n",
      "переложить 1 блин c 2 на 1 штырек\n",
      "переложить 2 блин с 2 на 3 штырек\n",
      "переложить 1 блин c 1 на 3 штырек\n",
      "переложить 4 блин с 1 на 2 штырек\n",
      "переложить 1 блин c 3 на 2 штырек\n",
      "переложить 2 блин с 3 на 1 штырек\n",
      "переложить 1 блин c 2 на 1 штырек\n",
      "переложить 3 блин с 3 на 2 штырек\n",
      "переложить 1 блин c 1 на 3 штырек\n",
      "переложить 2 блин с 1 на 2 штырек\n",
      "переложить 1 блин c 3 на 2 штырек\n"
     ]
    }
   ],
   "source": [
    "hanoi(4)"
   ]
  },
  {
   "cell_type": "markdown",
   "metadata": {},
   "source": [
    "# Генерация комбинаторных обьектов"
   ]
  },
  {
   "cell_type": "code",
   "execution_count": 20,
   "metadata": {},
   "outputs": [],
   "source": [
    "def gen_bin(n, prefix = ''):\n",
    "    if n == 0:\n",
    "        print(prefix)\n",
    "    else:\n",
    "        assert(n > 0)\n",
    "        gen_bin(n - 1, prefix + '1')\n",
    "        gen_bin(n - 1, prefix + '0')"
   ]
  },
  {
   "cell_type": "code",
   "execution_count": 22,
   "metadata": {},
   "outputs": [
    {
     "name": "stdout",
     "output_type": "stream",
     "text": [
      "11\n",
      "10\n",
      "01\n",
      "00\n"
     ]
    }
   ],
   "source": [
    "gen_bin(2)"
   ]
  },
  {
   "cell_type": "code",
   "execution_count": 23,
   "metadata": {},
   "outputs": [],
   "source": [
    "def permutations(n, A = []):\n",
    "    if len(A) == n:\n",
    "        print(*A)\n",
    "    else:\n",
    "        for x in range(1, n + 1):\n",
    "            if x not in A:\n",
    "                permutations(n, A + [x])"
   ]
  },
  {
   "cell_type": "code",
   "execution_count": 24,
   "metadata": {},
   "outputs": [
    {
     "name": "stdout",
     "output_type": "stream",
     "text": [
      "1 2\n",
      "2 1\n"
     ]
    }
   ],
   "source": [
    "permutations(2)"
   ]
  },
  {
   "cell_type": "code",
   "execution_count": null,
   "metadata": {},
   "outputs": [],
   "source": []
  }
 ],
 "metadata": {
  "kernelspec": {
   "display_name": "Python 3",
   "language": "python",
   "name": "python3"
  },
  "language_info": {
   "codemirror_mode": {
    "name": "ipython",
    "version": 3
   },
   "file_extension": ".py",
   "mimetype": "text/x-python",
   "name": "python",
   "nbconvert_exporter": "python",
   "pygments_lexer": "ipython3",
   "version": "3.8.5"
  }
 },
 "nbformat": 4,
 "nbformat_minor": 4
}
