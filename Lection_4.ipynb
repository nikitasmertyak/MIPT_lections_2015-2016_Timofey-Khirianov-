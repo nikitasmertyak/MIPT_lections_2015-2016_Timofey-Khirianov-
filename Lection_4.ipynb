{
 "cells": [
  {
   "cell_type": "code",
   "execution_count": 4,
   "metadata": {},
   "outputs": [
    {
     "name": "stdout",
     "output_type": "stream",
     "text": [
      "-1\n",
      "-2\n",
      "3\n"
     ]
    }
   ],
   "source": [
    "x = int(input())\n",
    "y = int(input())\n",
    "if y > 0:\n",
    "    if x > 0:\n",
    "        print('1')\n",
    "    else:\n",
    "        print('2')\n",
    "else:\n",
    "    if x > 0:\n",
    "        print('4')\n",
    "    else:\n",
    "        print('3')"
   ]
  },
  {
   "cell_type": "markdown",
   "metadata": {},
   "source": [
    "# Каскадная условная конструкция\n"
   ]
  },
  {
   "cell_type": "code",
   "execution_count": 7,
   "metadata": {},
   "outputs": [
    {
     "name": "stdout",
     "output_type": "stream",
     "text": [
      "-1\n",
      "отриц\n"
     ]
    }
   ],
   "source": [
    "x = int(input())\n",
    "if x < 0:\n",
    "    print('отриц')\n",
    "elif x == 0:\n",
    "    print('нуль')\n",
    "elif x < 1:\n",
    "    print('0 < x < 1')\n",
    "elif x == 1:\n",
    "    print('один')\n",
    "else:\n",
    "    print('x > 1')"
   ]
  },
  {
   "cell_type": "markdown",
   "metadata": {},
   "source": [
    "# Поиск максимального элемента в выборке\n"
   ]
  },
  {
   "cell_type": "code",
   "execution_count": 12,
   "metadata": {},
   "outputs": [
    {
     "name": "stdout",
     "output_type": "stream",
     "text": [
      "1\n",
      "2\n",
      "3\n",
      "4\n",
      "5\n",
      "6\n",
      "7\n",
      "0\n",
      "7\n"
     ]
    }
   ],
   "source": [
    "x = int(input())\n",
    "tmp_max = None\n",
    "while x != 0:\n",
    "    if tmp_max == None or x > tmp_max:\n",
    "        tmp_max = x\n",
    "    x = int(input())\n",
    "print(tmp_max)"
   ]
  },
  {
   "cell_type": "code",
   "execution_count": 14,
   "metadata": {},
   "outputs": [
    {
     "name": "stdout",
     "output_type": "stream",
     "text": [
      "1\n",
      "2\n",
      "3\n",
      "4\n",
      "5\n",
      "6\n",
      "7\n",
      "0\n",
      "7 6 5\n"
     ]
    }
   ],
   "source": [
    "x = int(input())\n",
    "m1 = m2 = m3 = None\n",
    "while x != 0:\n",
    "    if m1 == None or x > m1:\n",
    "        m1, m2, m3 = x, m1, m2\n",
    "    elif m2 == None or x > m2:\n",
    "        m2, m3 = x, m2\n",
    "    elif m3 == None or x > m3:\n",
    "        m3 = x\n",
    "    x = int(input())\n",
    "print(m1, m2, m3)"
   ]
  },
  {
   "cell_type": "markdown",
   "metadata": {},
   "source": [
    "# Функция проверки простоты числа\n"
   ]
  },
  {
   "cell_type": "code",
   "execution_count": 25,
   "metadata": {},
   "outputs": [],
   "source": [
    "def isPrime(x):\n",
    "    \"x - натуральное\"\n",
    "    delitel = 2\n",
    "    while delitel**2 <= x:\n",
    "        if x % delitel == 0:\n",
    "            return False\n",
    "        delitel += 1\n",
    "    return True"
   ]
  },
  {
   "cell_type": "code",
   "execution_count": 29,
   "metadata": {},
   "outputs": [
    {
     "data": {
      "text/plain": [
       "True"
      ]
     },
     "execution_count": 29,
     "metadata": {},
     "output_type": "execute_result"
    }
   ],
   "source": [
    "isPrime(11)"
   ]
  },
  {
   "cell_type": "markdown",
   "metadata": {},
   "source": [
    "# Разложение числа на простые множители \n"
   ]
  },
  {
   "cell_type": "code",
   "execution_count": 30,
   "metadata": {},
   "outputs": [
    {
     "name": "stdout",
     "output_type": "stream",
     "text": [
      "12\n",
      "2\n",
      "2\n",
      "3\n"
     ]
    }
   ],
   "source": [
    "x = int(input())\n",
    "delitel = 2\n",
    "while x > 1:\n",
    "    if x % delitel == 0:\n",
    "        print(delitel)\n",
    "        x //= delitel\n",
    "    else:\n",
    "        delitel += 1"
   ]
  },
  {
   "cell_type": "code",
   "execution_count": null,
   "metadata": {},
   "outputs": [],
   "source": []
  }
 ],
 "metadata": {
  "kernelspec": {
   "display_name": "Python 3",
   "language": "python",
   "name": "python3"
  },
  "language_info": {
   "codemirror_mode": {
    "name": "ipython",
    "version": 3
   },
   "file_extension": ".py",
   "mimetype": "text/x-python",
   "name": "python",
   "nbconvert_exporter": "python",
   "pygments_lexer": "ipython3",
   "version": "3.8.5"
  }
 },
 "nbformat": 4,
 "nbformat_minor": 4
}
