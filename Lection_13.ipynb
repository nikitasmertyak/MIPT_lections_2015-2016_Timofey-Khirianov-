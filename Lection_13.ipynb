{
 "cells": [
  {
   "cell_type": "code",
   "execution_count": 27,
   "metadata": {},
   "outputs": [],
   "source": [
    "class Queue:\n",
    "    def __init__(self, N = 0):\n",
    "        self._begin = None\n",
    "        self._end = None\n",
    "        self._N_max = N\n",
    "        self._N = 0\n",
    "    \n",
    "    def empty(self):\n",
    "        return self._N == 0\n",
    "    \n",
    "    def full(self):\n",
    "        return self._N_max == self._N if self._N_max != 0 else False\n",
    "    \n",
    "    def put(self, item):\n",
    "        if self.full():\n",
    "            raise ValueError \n",
    "        if self.empty():\n",
    "            self._begin = self._end = [None, item, None]\n",
    "        else:\n",
    "            new_node = [None, item, self._begin]\n",
    "            self._begin = new_node\n",
    "            self._begin[2][0] = self._begin\n",
    "        self._N += 1\n",
    "    \n",
    "    def get(self):\n",
    "        if self.empty():\n",
    "            raise ValueError \n",
    "        item = self._end[1]\n",
    "        self._end = self._end[0]\n",
    "        if self._end == None:\n",
    "            self._begin == None\n",
    "        else:   \n",
    "            self._end[2] = None\n",
    "        self._N -= 1"
   ]
  },
  {
   "cell_type": "code",
   "execution_count": 30,
   "metadata": {},
   "outputs": [
    {
     "data": {
      "text/plain": [
       "True"
      ]
     },
     "execution_count": 30,
     "metadata": {},
     "output_type": "execute_result"
    }
   ],
   "source": [
    "q = Queue(10)\n",
    "\n",
    "q.empty()\n",
    "q.put(1)\n",
    "q.get()\n",
    "q.empty()"
   ]
  },
  {
   "cell_type": "code",
   "execution_count": 8,
   "metadata": {},
   "outputs": [],
   "source": [
    "class Heap:\n",
    "    def __init__(self):\n",
    "        self._m = []\n",
    "    def put(self, item):\n",
    "        self._m.append(item)\n",
    "        i = len(self._m) - 1\n",
    "        while i != 0 and self._m[i] > self._m[(i-1) // 2]:\n",
    "            self._m[i], self._m[(i-1) // 2] = self._m[(i-1) // 2], self._m[i]\n",
    "            i = (i-1) // 2\n",
    "            "
   ]
  },
  {
   "cell_type": "code",
   "execution_count": 33,
   "metadata": {},
   "outputs": [],
   "source": [
    "class Stack:\n",
    "    def __init__(self):\n",
    "        self._m = []\n",
    "    \n",
    "    def push(self, item):\n",
    "        self._m.append(item)\n",
    "    \n",
    "    def pop(self):\n",
    "        top = self._m[-1]\n",
    "        self._m.pop()\n",
    "        return top"
   ]
  },
  {
   "cell_type": "code",
   "execution_count": 34,
   "metadata": {},
   "outputs": [
    {
     "data": {
      "text/plain": [
       "1"
      ]
     },
     "execution_count": 34,
     "metadata": {},
     "output_type": "execute_result"
    }
   ],
   "source": [
    "s = Stack()\n",
    "s.push(1)\n",
    "s.pop()"
   ]
  },
  {
   "cell_type": "code",
   "execution_count": null,
   "metadata": {},
   "outputs": [],
   "source": []
  }
 ],
 "metadata": {
  "kernelspec": {
   "display_name": "Python 3",
   "language": "python",
   "name": "python3"
  },
  "language_info": {
   "codemirror_mode": {
    "name": "ipython",
    "version": 3
   },
   "file_extension": ".py",
   "mimetype": "text/x-python",
   "name": "python",
   "nbconvert_exporter": "python",
   "pygments_lexer": "ipython3",
   "version": "3.8.5"
  }
 },
 "nbformat": 4,
 "nbformat_minor": 4
}
